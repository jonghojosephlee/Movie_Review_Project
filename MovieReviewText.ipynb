{
 "cells": [
  {
   "cell_type": "code",
   "execution_count": null,
   "id": "854d7afc",
   "metadata": {},
   "outputs": [],
   "source": []
  },
  {
   "cell_type": "code",
   "execution_count": 1,
   "id": "7d39db58",
   "metadata": {},
   "outputs": [],
   "source": [
    "import os\n",
    "import re\n",
    "import pandas as pd\n",
    "import numpy as np\n",
    "\n",
    "import urllib.request\n",
    "import matplotlib.pyplot as plt\n",
    "%matplotlib inline\n",
    "import tensorflow as tf\n",
    "\n",
    "\n",
    "from konlpy.tag import Okt\n",
    "from konlpy.tag import Mecab\n",
    "\n",
    "import tensorflow as tf\n",
    "from tensorflow import keras\n",
    "from tensorflow.keras.preprocessing.text import Tokenizer\n",
    "from tensorflow.keras.preprocessing.sequence import pad_sequences\n",
    "from tensorflow.keras.initializers import Constant\n",
    "from tensorflow.keras.callbacks import EarlyStopping, ModelCheckpoint\n",
    "from tensorflow.keras.models import load_model\n",
    "\n",
    "from collections import Counter\n",
    "import gensim\n",
    "from gensim.models import KeyedVectors\n",
    "from gensim.models.keyedvectors import Word2VecKeyedVectors"
   ]
  },
  {
   "cell_type": "code",
   "execution_count": null,
   "id": "5e8aa3a6",
   "metadata": {},
   "outputs": [],
   "source": []
  },
  {
   "cell_type": "markdown",
   "id": "03a7d93e",
   "metadata": {},
   "source": [
    "# 1. 데이터 준비"
   ]
  },
  {
   "cell_type": "code",
   "execution_count": 2,
   "id": "ebefb0db",
   "metadata": {},
   "outputs": [
    {
     "data": {
      "text/html": [
       "<div>\n",
       "<style scoped>\n",
       "    .dataframe tbody tr th:only-of-type {\n",
       "        vertical-align: middle;\n",
       "    }\n",
       "\n",
       "    .dataframe tbody tr th {\n",
       "        vertical-align: top;\n",
       "    }\n",
       "\n",
       "    .dataframe thead th {\n",
       "        text-align: right;\n",
       "    }\n",
       "</style>\n",
       "<table border=\"1\" class=\"dataframe\">\n",
       "  <thead>\n",
       "    <tr style=\"text-align: right;\">\n",
       "      <th></th>\n",
       "      <th>id</th>\n",
       "      <th>document</th>\n",
       "      <th>label</th>\n",
       "    </tr>\n",
       "  </thead>\n",
       "  <tbody>\n",
       "    <tr>\n",
       "      <th>0</th>\n",
       "      <td>9976970</td>\n",
       "      <td>아 더빙.. 진짜 짜증나네요 목소리</td>\n",
       "      <td>0</td>\n",
       "    </tr>\n",
       "    <tr>\n",
       "      <th>1</th>\n",
       "      <td>3819312</td>\n",
       "      <td>흠...포스터보고 초딩영화줄....오버연기조차 가볍지 않구나</td>\n",
       "      <td>1</td>\n",
       "    </tr>\n",
       "    <tr>\n",
       "      <th>2</th>\n",
       "      <td>10265843</td>\n",
       "      <td>너무재밓었다그래서보는것을추천한다</td>\n",
       "      <td>0</td>\n",
       "    </tr>\n",
       "    <tr>\n",
       "      <th>3</th>\n",
       "      <td>9045019</td>\n",
       "      <td>교도소 이야기구먼 ..솔직히 재미는 없다..평점 조정</td>\n",
       "      <td>0</td>\n",
       "    </tr>\n",
       "    <tr>\n",
       "      <th>4</th>\n",
       "      <td>6483659</td>\n",
       "      <td>사이몬페그의 익살스런 연기가 돋보였던 영화!스파이더맨에서 늙어보이기만 했던 커스틴 ...</td>\n",
       "      <td>1</td>\n",
       "    </tr>\n",
       "  </tbody>\n",
       "</table>\n",
       "</div>"
      ],
      "text/plain": [
       "         id                                           document  label\n",
       "0   9976970                                아 더빙.. 진짜 짜증나네요 목소리      0\n",
       "1   3819312                  흠...포스터보고 초딩영화줄....오버연기조차 가볍지 않구나      1\n",
       "2  10265843                                  너무재밓었다그래서보는것을추천한다      0\n",
       "3   9045019                      교도소 이야기구먼 ..솔직히 재미는 없다..평점 조정      0\n",
       "4   6483659  사이몬페그의 익살스런 연기가 돋보였던 영화!스파이더맨에서 늙어보이기만 했던 커스틴 ...      1"
      ]
     },
     "execution_count": 2,
     "metadata": {},
     "output_type": "execute_result"
    }
   ],
   "source": [
    "train_data = pd.read_table('~/aiffel/ratings_train.txt')\n",
    "test_data = pd.read_table('~/aiffel/ratings_test.txt')\n",
    "\n",
    "train_data.head()"
   ]
  },
  {
   "cell_type": "markdown",
   "id": "8cf5ac42",
   "metadata": {},
   "source": [
    "# 2. 데이터로더 구성"
   ]
  },
  {
   "cell_type": "code",
   "execution_count": 3,
   "id": "d661b1d8",
   "metadata": {},
   "outputs": [],
   "source": [
    "from konlpy.tag import Mecab\n",
    "import numpy as np\n",
    "from collections import Counter\n",
    "\n",
    "tokenizer = Mecab()\n",
    "stopwords = ['의','가','이','은','들','는','좀','잘','걍','과','도','를','으로','자','에','와','한','하다']\n",
    "\n",
    "def load_data(train_data, test_data, num_words=10000):\n",
    "    train_data.drop_duplicates(subset=['document'], inplace=True)\n",
    "    train_data = train_data.dropna(how = 'any') \n",
    "    test_data.drop_duplicates(subset=['document'], inplace=True)\n",
    "    test_data = test_data.dropna(how = 'any') \n",
    "    \n",
    "    X_train = []\n",
    "    for sentence in train_data['document']:\n",
    "        temp_X = tokenizer.morphs(sentence) # 토큰화\n",
    "        temp_X = [word for word in temp_X if not word in stopwords] # 불용어 제거\n",
    "        X_train.append(temp_X)\n",
    "\n",
    "    X_test = []\n",
    "    for sentence in test_data['document']:\n",
    "        temp_X = tokenizer.morphs(sentence) # 토큰화\n",
    "        temp_X = [word for word in temp_X if not word in stopwords] # 불용어 제거\n",
    "        X_test.append(temp_X)\n",
    "    \n",
    "    words = np.concatenate(X_train).tolist()\n",
    "    counter = Counter(words)\n",
    "    counter = counter.most_common(10000-4)\n",
    "    vocab = ['<PAD>', '<BOS>', '<UNK>', '<UNUSED>'] + [key for key, _ in counter]\n",
    "    word_to_index = {word:index for index, word in enumerate(vocab)}\n",
    "        \n",
    "    def wordlist_to_indexlist(wordlist):\n",
    "        return [word_to_index[word] if word in word_to_index else word_to_index['<UNK>'] for word in wordlist]\n",
    "        \n",
    "    X_train = list(map(wordlist_to_indexlist, X_train))\n",
    "    X_test = list(map(wordlist_to_indexlist, X_test))\n",
    "        \n",
    "    return X_train, np.array(list(train_data['label'])), X_test, np.array(list(test_data['label'])), word_to_index\n",
    "    \n",
    "X_train, y_train, X_test, y_test, word_to_index = load_data(train_data, test_data) "
   ]
  },
  {
   "cell_type": "code",
   "execution_count": 4,
   "id": "1efc8811",
   "metadata": {},
   "outputs": [],
   "source": [
    "index_to_word = {index:word for word, index in word_to_index.items()}"
   ]
  },
  {
   "cell_type": "code",
   "execution_count": 5,
   "id": "b9ee2634",
   "metadata": {},
   "outputs": [],
   "source": [
    "def get_encoded_sentence(sentence, word_to_index):\n",
    "    return [word_to_index['<BOS>']]+[word_to_index[word] if word in word_to_index else word_to_index['<UNK>'] for word in sentence.split()]\n",
    "\n",
    "def get_encoded_sentences(sentences, word_to_index):\n",
    "    return [get_encoded_sentence(sentence, word_to_index) for sentence in sentences]\n",
    "\n",
    "\n",
    "def get_decoded_sentence(encoded_sentence, index_to_word):\n",
    "    return ' '.join(index_to_word[index] if index in index_to_word else '<UNK>' for index in encoded_sentence[1:])  #[1:]를 통해 <BOS>를 제외\n",
    "\n",
    "\n",
    "def get_decoded_sentences(encoded_sentences, index_to_word):\n",
    "    return [get_decoded_sentence(encoded_sentence, index_to_word) for encoded_sentence in encoded_sentences]"
   ]
  },
  {
   "cell_type": "code",
   "execution_count": 6,
   "id": "c9679ebb",
   "metadata": {},
   "outputs": [],
   "source": [
    "X_train, y_train, X_test, y_test, word_to_index = load_data(train_data, test_data)"
   ]
  },
  {
   "cell_type": "code",
   "execution_count": null,
   "id": "57d34cea",
   "metadata": {},
   "outputs": [],
   "source": []
  },
  {
   "cell_type": "markdown",
   "id": "8e6feed9",
   "metadata": {},
   "source": [
    "# 3. 모델 구성을 위한 데이터 분석 및 가공"
   ]
  },
  {
   "cell_type": "code",
   "execution_count": 7,
   "id": "a0fe2f9a",
   "metadata": {
    "scrolled": true
   },
   "outputs": [
    {
     "name": "stdout",
     "output_type": "stream",
     "text": [
      "문장길이 평균 :  15.96940191154864\n",
      "문장길이 최대 :  116\n",
      "문장길이 표준편차 :  12.843571191092\n",
      "pad_sequences maxlen :  41\n",
      "전체 문장의 0.9342988343341575%가 maxlen 설정값 이내에 포함됩니다. \n"
     ]
    }
   ],
   "source": [
    "total_data_text = list(X_train) + list(X_test)\n",
    "\n",
    "num_tokens = [len(tokens) for tokens in total_data_text]\n",
    "num_tokens = np.array(num_tokens)\n",
    "\n",
    "print('문장길이 평균 : ', np.mean(num_tokens))\n",
    "print('문장길이 최대 : ', np.max(num_tokens))\n",
    "print('문장길이 표준편차 : ', np.std(num_tokens))\n",
    "\n",
    "max_tokens = np.mean(num_tokens) + 2 * np.std(num_tokens)\n",
    "maxlen = int(max_tokens)\n",
    "print('pad_sequences maxlen : ', maxlen)\n",
    "print('전체 문장의 {}%가 maxlen 설정값 이내에 포함됩니다. '.format(np.sum(num_tokens < max_tokens) / len(num_tokens)))"
   ]
  },
  {
   "cell_type": "code",
   "execution_count": 8,
   "id": "ae2755b9",
   "metadata": {},
   "outputs": [
    {
     "name": "stdout",
     "output_type": "stream",
     "text": [
      "pad_sequences maxlen :  48\n",
      "전체 문장의 0.9548784420929768%가 maxlen 설정값 이내에 포함됩니다. \n"
     ]
    }
   ],
   "source": [
    "max_tokens = np.mean(num_tokens) + 2.5 * np.std(num_tokens)\n",
    "maxlen = int(max_tokens)\n",
    "print('pad_sequences maxlen : ', maxlen)\n",
    "print('전체 문장의 {}%가 maxlen 설정값 이내에 포함됩니다. '.format(np.sum(num_tokens < max_tokens) / len(num_tokens)))"
   ]
  },
  {
   "cell_type": "code",
   "execution_count": null,
   "id": "f2ae1765",
   "metadata": {},
   "outputs": [],
   "source": []
  },
  {
   "cell_type": "code",
   "execution_count": null,
   "id": "6b010dfd",
   "metadata": {},
   "outputs": [],
   "source": []
  },
  {
   "cell_type": "code",
   "execution_count": 9,
   "id": "abf9949b",
   "metadata": {},
   "outputs": [
    {
     "name": "stdout",
     "output_type": "stream",
     "text": [
      "(146182, 48)\n"
     ]
    }
   ],
   "source": [
    "X_train = tf.keras.preprocessing.sequence.pad_sequences(X_train,\n",
    "                                                        value=word_to_index[\"<PAD>\"],\n",
    "                                                        padding='post',\n",
    "                                                        maxlen=maxlen)\n",
    "\n",
    "X_test = tf.keras.preprocessing.sequence.pad_sequences(X_test,\n",
    "                                                       value=word_to_index[\"<PAD>\"],\n",
    "                                                       padding='post',\n",
    "                                                       maxlen=maxlen)\n",
    "\n",
    "print(X_train.shape)"
   ]
  },
  {
   "cell_type": "code",
   "execution_count": null,
   "id": "786f7596",
   "metadata": {},
   "outputs": [],
   "source": []
  },
  {
   "cell_type": "markdown",
   "id": "a608e1c1",
   "metadata": {},
   "source": [
    "# 4. 모델 구성 및 validation set 구성"
   ]
  },
  {
   "cell_type": "code",
   "execution_count": 10,
   "id": "019bcf23",
   "metadata": {},
   "outputs": [
    {
     "name": "stdout",
     "output_type": "stream",
     "text": [
      "(136182, 48)\n",
      "(136182,)\n"
     ]
    }
   ],
   "source": [
    "x_val = X_train[:10000]   \n",
    "y_val = y_train[:10000]\n",
    "\n",
    "partial_x_train = X_train[10000:]  \n",
    "partial_y_train = y_train[10000:]\n",
    "\n",
    "print(partial_x_train.shape)\n",
    "print(partial_y_train.shape)"
   ]
  },
  {
   "cell_type": "code",
   "execution_count": 11,
   "id": "61a558cf",
   "metadata": {},
   "outputs": [
    {
     "name": "stdout",
     "output_type": "stream",
     "text": [
      "Model: \"sequential\"\n",
      "_________________________________________________________________\n",
      "Layer (type)                 Output Shape              Param #   \n",
      "=================================================================\n",
      "embedding (Embedding)        (None, None, 128)         1280000   \n",
      "_________________________________________________________________\n",
      "lstm (LSTM)                  (None, 128)               131584    \n",
      "_________________________________________________________________\n",
      "dense (Dense)                (None, 1)                 129       \n",
      "=================================================================\n",
      "Total params: 1,411,713\n",
      "Trainable params: 1,411,713\n",
      "Non-trainable params: 0\n",
      "_________________________________________________________________\n",
      "Model: \"sequential_1\"\n",
      "_________________________________________________________________\n",
      "Layer (type)                 Output Shape              Param #   \n",
      "=================================================================\n",
      "embedding_1 (Embedding)      (None, None, 128)         1280000   \n",
      "_________________________________________________________________\n",
      "global_max_pooling1d (Global (None, 128)               0         \n",
      "_________________________________________________________________\n",
      "dense_1 (Dense)              (None, 8)                 1032      \n",
      "_________________________________________________________________\n",
      "dense_2 (Dense)              (None, 1)                 9         \n",
      "=================================================================\n",
      "Total params: 1,281,041\n",
      "Trainable params: 1,281,041\n",
      "Non-trainable params: 0\n",
      "_________________________________________________________________\n",
      "Model: \"sequential_2\"\n",
      "_________________________________________________________________\n",
      "Layer (type)                 Output Shape              Param #   \n",
      "=================================================================\n",
      "embedding_2 (Embedding)      (None, None, 128)         1280000   \n",
      "_________________________________________________________________\n",
      "conv1d (Conv1D)              (None, None, 16)          14352     \n",
      "_________________________________________________________________\n",
      "max_pooling1d (MaxPooling1D) (None, None, 16)          0         \n",
      "_________________________________________________________________\n",
      "conv1d_1 (Conv1D)            (None, None, 16)          1808      \n",
      "_________________________________________________________________\n",
      "global_max_pooling1d_1 (Glob (None, 16)                0         \n",
      "_________________________________________________________________\n",
      "dense_3 (Dense)              (None, 16)                272       \n",
      "_________________________________________________________________\n",
      "dense_4 (Dense)              (None, 1)                 17        \n",
      "=================================================================\n",
      "Total params: 1,296,449\n",
      "Trainable params: 1,296,449\n",
      "Non-trainable params: 0\n",
      "_________________________________________________________________\n"
     ]
    }
   ],
   "source": [
    "vocab_size = 10000 \n",
    "word_vector_dim = 128\n",
    "\n",
    "# RNN (LSTM)\n",
    "LSTM = keras.Sequential()\n",
    "LSTM.add(keras.layers.Embedding(vocab_size, word_vector_dim, input_shape=(None,)))\n",
    "LSTM.add(keras.layers.LSTM(128))\n",
    "LSTM.add(keras.layers.Dense(1, activation='sigmoid'))\n",
    "LSTM.summary()\n",
    "\n",
    "\n",
    "\n",
    "# GlobalMaxPooling1D\n",
    "GMP = keras.Sequential()\n",
    "GMP.add(keras.layers.Embedding(vocab_size, word_vector_dim, input_shape=(None,)))\n",
    "GMP.add(keras.layers.GlobalMaxPooling1D())\n",
    "GMP.add(keras.layers.Dense(8, activation='relu'))\n",
    "GMP.add(keras.layers.Dense(1, activation='sigmoid'))\n",
    "GMP.summary()\n",
    "\n",
    "# # 1D CNN\n",
    "\n",
    "cnn = keras.Sequential()\n",
    "cnn.add(keras.layers.Embedding(vocab_size, word_vector_dim, input_shape=(None,))) \n",
    "cnn.add(keras.layers.Conv1D(16, 7, activation='relu'))\n",
    "cnn.add(keras.layers.MaxPooling1D(5))\n",
    "cnn.add(keras.layers.Conv1D(16, 7, activation='relu'))\n",
    "cnn.add(keras.layers.GlobalMaxPooling1D())\n",
    "cnn.add(keras.layers.Dense(16, activation='relu'))\n",
    "cnn.add(keras.layers.Dense(1, activation='sigmoid'))\n",
    "cnn.summary()\n"
   ]
  },
  {
   "cell_type": "code",
   "execution_count": 12,
   "id": "66aeeb0a",
   "metadata": {},
   "outputs": [],
   "source": [
    "LSTM.compile(optimizer='adam',\n",
    "              loss='binary_crossentropy',\n",
    "              metrics=['accuracy'])\n",
    "\n",
    "cnn.compile(optimizer='adam',\n",
    "              loss='binary_crossentropy',\n",
    "              metrics=['accuracy'])\n",
    "\n",
    "GMP.compile(optimizer='adam',\n",
    "              loss='binary_crossentropy',\n",
    "              metrics=['accuracy'])\n"
   ]
  },
  {
   "cell_type": "markdown",
   "id": "6f3b0cb7",
   "metadata": {},
   "source": [
    "# 5 모델 훈련 개시"
   ]
  },
  {
   "cell_type": "code",
   "execution_count": 13,
   "id": "8c26ef9c",
   "metadata": {},
   "outputs": [],
   "source": [
    "early = EarlyStopping(monitor='val_loss', mode='min', verbose=1, patience=5)\n",
    "check = ModelCheckpoint('best_model.h5', monitor='val_acc', mode='max', verbose=1, save_bast_only=True)"
   ]
  },
  {
   "cell_type": "code",
   "execution_count": 14,
   "id": "89d1ce9e",
   "metadata": {},
   "outputs": [
    {
     "name": "stdout",
     "output_type": "stream",
     "text": [
      "Epoch 1/10\n",
      "4256/4256 [==============================] - 27s 6ms/step - loss: 0.3975 - accuracy: 0.8159 - val_loss: 0.3176 - val_accuracy: 0.8653\n",
      "\n",
      "Epoch 00001: saving model to best_model.h5\n",
      "Epoch 2/10\n",
      "4256/4256 [==============================] - 23s 5ms/step - loss: 0.2916 - accuracy: 0.8782 - val_loss: 0.3217 - val_accuracy: 0.8676\n",
      "\n",
      "Epoch 00002: saving model to best_model.h5\n",
      "Epoch 3/10\n",
      "4256/4256 [==============================] - 23s 5ms/step - loss: 0.2509 - accuracy: 0.8962 - val_loss: 0.3169 - val_accuracy: 0.8637\n",
      "\n",
      "Epoch 00003: saving model to best_model.h5\n",
      "Epoch 4/10\n",
      "4256/4256 [==============================] - 23s 5ms/step - loss: 0.2175 - accuracy: 0.9113 - val_loss: 0.3400 - val_accuracy: 0.8580\n",
      "\n",
      "Epoch 00004: saving model to best_model.h5\n",
      "Epoch 5/10\n",
      "4256/4256 [==============================] - 23s 5ms/step - loss: 0.1934 - accuracy: 0.9222 - val_loss: 0.3769 - val_accuracy: 0.8574\n",
      "\n",
      "Epoch 00005: saving model to best_model.h5\n",
      "Epoch 6/10\n",
      "4256/4256 [==============================] - 23s 5ms/step - loss: 0.1681 - accuracy: 0.9326 - val_loss: 0.3809 - val_accuracy: 0.8565\n",
      "\n",
      "Epoch 00006: saving model to best_model.h5\n",
      "Epoch 7/10\n",
      "4256/4256 [==============================] - 23s 5ms/step - loss: 0.1446 - accuracy: 0.9430 - val_loss: 0.4211 - val_accuracy: 0.8575\n",
      "\n",
      "Epoch 00007: saving model to best_model.h5\n",
      "Epoch 8/10\n",
      "4256/4256 [==============================] - 23s 5ms/step - loss: 0.1260 - accuracy: 0.9502 - val_loss: 0.4765 - val_accuracy: 0.8568\n",
      "\n",
      "Epoch 00008: saving model to best_model.h5\n",
      "Epoch 00008: early stopping\n"
     ]
    }
   ],
   "source": [
    "# LSTM Training\n",
    "\n",
    "LSTM_history = LSTM.fit(partial_x_train,\n",
    "                    partial_y_train,\n",
    "                    epochs=10,\n",
    "                    callbacks=[early, check],\n",
    "                    batch_size=32,\n",
    "                    validation_data=(x_val, y_val),\n",
    "                    verbose=1)\n"
   ]
  },
  {
   "cell_type": "code",
   "execution_count": 15,
   "id": "28647476",
   "metadata": {},
   "outputs": [
    {
     "name": "stdout",
     "output_type": "stream",
     "text": [
      "1537/1537 - 3s - loss: 0.4738 - accuracy: 0.8558\n",
      "[0.47376036643981934, 0.8558292984962463]\n"
     ]
    }
   ],
   "source": [
    "# LSTM Evaluation\n",
    "result_lstm = LSTM.evaluate(X_test,  y_test, verbose=2)\n",
    "\n",
    "print(result_lstm)"
   ]
  },
  {
   "cell_type": "code",
   "execution_count": 16,
   "id": "1e63ecc3",
   "metadata": {},
   "outputs": [
    {
     "name": "stdout",
     "output_type": "stream",
     "text": [
      "Epoch 1/10\n",
      "4256/4256 [==============================] - 20s 4ms/step - loss: 0.3687 - accuracy: 0.8326 - val_loss: 0.3228 - val_accuracy: 0.8570\n",
      "\n",
      "Epoch 00001: saving model to best_model.h5\n",
      "Epoch 2/10\n",
      "4256/4256 [==============================] - 18s 4ms/step - loss: 0.2694 - accuracy: 0.8887 - val_loss: 0.3334 - val_accuracy: 0.8582\n",
      "\n",
      "Epoch 00002: saving model to best_model.h5\n",
      "Epoch 3/10\n",
      "4256/4256 [==============================] - 18s 4ms/step - loss: 0.1966 - accuracy: 0.9230 - val_loss: 0.3721 - val_accuracy: 0.8577\n",
      "\n",
      "Epoch 00003: saving model to best_model.h5\n",
      "Epoch 4/10\n",
      "4256/4256 [==============================] - 18s 4ms/step - loss: 0.1357 - accuracy: 0.9486 - val_loss: 0.4333 - val_accuracy: 0.8429\n",
      "\n",
      "Epoch 00004: saving model to best_model.h5\n",
      "Epoch 5/10\n",
      "4256/4256 [==============================] - 18s 4ms/step - loss: 0.0966 - accuracy: 0.9645 - val_loss: 0.5229 - val_accuracy: 0.8454\n",
      "\n",
      "Epoch 00005: saving model to best_model.h5\n",
      "Epoch 6/10\n",
      "4256/4256 [==============================] - 18s 4ms/step - loss: 0.0739 - accuracy: 0.9728 - val_loss: 0.5858 - val_accuracy: 0.8435\n",
      "\n",
      "Epoch 00006: saving model to best_model.h5\n",
      "Epoch 00006: early stopping\n"
     ]
    }
   ],
   "source": [
    "# cnn Training\n",
    "cnn_history = cnn.fit(partial_x_train,\n",
    "                    partial_y_train,\n",
    "                    epochs=10,\n",
    "                    callbacks=[early, check],\n",
    "                    batch_size=32,\n",
    "                    validation_data=(x_val, y_val),\n",
    "                    verbose=1)\n"
   ]
  },
  {
   "cell_type": "code",
   "execution_count": 17,
   "id": "2f078db9",
   "metadata": {},
   "outputs": [
    {
     "name": "stdout",
     "output_type": "stream",
     "text": [
      "1537/1537 - 2s - loss: 0.6123 - accuracy: 0.8367\n",
      "[0.6122896671295166, 0.8367475867271423]\n"
     ]
    }
   ],
   "source": [
    "# cnn Evaluation\n",
    "result_cnn = cnn.evaluate(X_test, y_test, verbose=2)\n",
    "\n",
    "print(result_cnn)"
   ]
  },
  {
   "cell_type": "code",
   "execution_count": 18,
   "id": "56d7899f",
   "metadata": {},
   "outputs": [
    {
     "name": "stdout",
     "output_type": "stream",
     "text": [
      "Epoch 1/10\n",
      "4256/4256 [==============================] - 13s 3ms/step - loss: 0.3795 - accuracy: 0.8295 - val_loss: 0.3356 - val_accuracy: 0.8512\n",
      "\n",
      "Epoch 00001: saving model to best_model.h5\n",
      "Epoch 2/10\n",
      "4256/4256 [==============================] - 13s 3ms/step - loss: 0.2971 - accuracy: 0.8758 - val_loss: 0.3323 - val_accuracy: 0.8539\n",
      "\n",
      "Epoch 00002: saving model to best_model.h5\n",
      "Epoch 3/10\n",
      "4256/4256 [==============================] - 13s 3ms/step - loss: 0.2518 - accuracy: 0.8983 - val_loss: 0.3392 - val_accuracy: 0.8545\n",
      "\n",
      "Epoch 00003: saving model to best_model.h5\n",
      "Epoch 4/10\n",
      "4256/4256 [==============================] - 13s 3ms/step - loss: 0.2099 - accuracy: 0.9176 - val_loss: 0.3640 - val_accuracy: 0.8550\n",
      "\n",
      "Epoch 00004: saving model to best_model.h5\n",
      "Epoch 5/10\n",
      "4256/4256 [==============================] - 13s 3ms/step - loss: 0.1711 - accuracy: 0.9341 - val_loss: 0.4087 - val_accuracy: 0.8489\n",
      "\n",
      "Epoch 00005: saving model to best_model.h5\n",
      "Epoch 6/10\n",
      "4256/4256 [==============================] - 13s 3ms/step - loss: 0.1352 - accuracy: 0.9501 - val_loss: 0.4602 - val_accuracy: 0.8442\n",
      "\n",
      "Epoch 00006: saving model to best_model.h5\n",
      "Epoch 7/10\n",
      "4256/4256 [==============================] - 13s 3ms/step - loss: 0.1057 - accuracy: 0.9618 - val_loss: 0.5341 - val_accuracy: 0.8373\n",
      "\n",
      "Epoch 00007: saving model to best_model.h5\n",
      "Epoch 00007: early stopping\n"
     ]
    }
   ],
   "source": [
    "# GMP Training\n",
    "GMP_history = GMP.fit(partial_x_train,\n",
    "                    partial_y_train,\n",
    "                    epochs=10,\n",
    "                    callbacks=[early, check],\n",
    "                    batch_size=32,\n",
    "                    validation_data=(x_val, y_val),\n",
    "                    verbose=1)"
   ]
  },
  {
   "cell_type": "code",
   "execution_count": 19,
   "id": "43be02f2",
   "metadata": {},
   "outputs": [
    {
     "name": "stdout",
     "output_type": "stream",
     "text": [
      "1537/1537 - 2s - loss: 0.5284 - accuracy: 0.8358\n",
      "[0.5284093618392944, 0.8358321189880371]\n"
     ]
    }
   ],
   "source": [
    "# GMP Evaluation\n",
    "result_GMP = GMP.evaluate(X_test, y_test, verbose=2)\n",
    "\n",
    "print(result_GMP)"
   ]
  },
  {
   "cell_type": "code",
   "execution_count": null,
   "id": "708efd72",
   "metadata": {},
   "outputs": [],
   "source": []
  },
  {
   "cell_type": "markdown",
   "id": "a5a06916",
   "metadata": {},
   "source": [
    "# 6. Loss, Accuracy 그래프 시각화"
   ]
  },
  {
   "cell_type": "code",
   "execution_count": 20,
   "id": "00d15661",
   "metadata": {},
   "outputs": [
    {
     "data": {
      "image/png": "[encoded data removed]",
      "text/plain": [
       "<Figure size 432x288 with 1 Axes>"
      ]
     },
     "metadata": {
      "needs_background": "light"
     },
     "output_type": "display_data"
    },
    {
     "data": {
      "image/png": "[encoded data removed]",
      "text/plain": [
       "<Figure size 432x288 with 1 Axes>"
      ]
     },
     "metadata": {
      "needs_background": "light"
     },
     "output_type": "display_data"
    }
   ],
   "source": [
    "# LSTM\n",
    "history_dict = LSTM_history.history\n",
    "\n",
    "acc = history_dict['accuracy']\n",
    "val_acc = history_dict['val_accuracy']\n",
    "loss = history_dict['loss']\n",
    "val_loss = history_dict['val_loss']\n",
    "\n",
    "epochs = range(1, len(acc) + 1)\n",
    "\n",
    "plt.plot(epochs, loss, 'bo', label='Training loss')\n",
    "plt.plot(epochs, val_loss, 'b', label='Validation loss')\n",
    "\n",
    "plt.title('Training and validation loss')\n",
    "plt.xlabel('Epochs')\n",
    "plt.ylabel('Loss')\n",
    "plt.legend()\n",
    "\n",
    "plt.show()\n",
    "\n",
    "plt.clf()\n",
    "\n",
    "plt.plot(epochs, acc, 'bo', label='Training acc')\n",
    "plt.plot(epochs, val_acc, 'b', label='Validation acc')\n",
    "plt.title('Training and validation accuracy')\n",
    "plt.xlabel('Epochs')\n",
    "plt.ylabel('Accuracy')\n",
    "plt.legend()\n",
    "\n",
    "plt.show()"
   ]
  },
  {
   "cell_type": "code",
   "execution_count": 21,
   "id": "d9d5284e",
   "metadata": {},
   "outputs": [
    {
     "data": {
      "image/png": "[encoded data removed]",
      "text/plain": [
       "<Figure size 432x288 with 1 Axes>"
      ]
     },
     "metadata": {
      "needs_background": "light"
     },
     "output_type": "display_data"
    },
    {
     "data": {
      "image/png": "[encoded data removed]",
      "text/plain": [
       "<Figure size 432x288 with 1 Axes>"
      ]
     },
     "metadata": {
      "needs_background": "light"
     },
     "output_type": "display_data"
    }
   ],
   "source": [
    "# GMP\n",
    "history_dict = GMP_history.history\n",
    "\n",
    "acc = history_dict['accuracy']\n",
    "val_acc = history_dict['val_accuracy']\n",
    "loss = history_dict['loss']\n",
    "val_loss = history_dict['val_loss']\n",
    "\n",
    "epochs = range(1, len(acc) + 1)\n",
    "\n",
    "plt.plot(epochs, loss, 'bo', label='Training loss')\n",
    "plt.plot(epochs, val_loss, 'b', label='Validation loss')\n",
    "\n",
    "plt.title('Training and validation loss')\n",
    "plt.xlabel('Epochs')\n",
    "plt.ylabel('Loss')\n",
    "plt.legend()\n",
    "\n",
    "plt.show()\n",
    "\n",
    "plt.clf()\n",
    "\n",
    "plt.plot(epochs, acc, 'bo', label='Training acc')\n",
    "plt.plot(epochs, val_acc, 'b', label='Validation acc')\n",
    "plt.title('Training and validation accuracy')\n",
    "plt.xlabel('Epochs')\n",
    "plt.ylabel('Accuracy')\n",
    "plt.legend()\n",
    "\n",
    "plt.show()"
   ]
  },
  {
   "cell_type": "code",
   "execution_count": 22,
   "id": "93162b9c",
   "metadata": {},
   "outputs": [
    {
     "data": {
      "image/png": "[encoded data removed]",
      "text/plain": [
       "<Figure size 432x288 with 1 Axes>"
      ]
     },
     "metadata": {
      "needs_background": "light"
     },
     "output_type": "display_data"
    },
    {
     "data": {
      "image/png": "[encoded data removed]",
      "text/plain": [
       "<Figure size 432x288 with 1 Axes>"
      ]
     },
     "metadata": {
      "needs_background": "light"
     },
     "output_type": "display_data"
    }
   ],
   "source": [
    "# cnn\n",
    "history_dict = cnn_history.history\n",
    "\n",
    "acc = history_dict['accuracy']\n",
    "val_acc = history_dict['val_accuracy']\n",
    "loss = history_dict['loss']\n",
    "val_loss = history_dict['val_loss']\n",
    "\n",
    "epochs = range(1, len(acc) + 1)\n",
    "\n",
    "plt.plot(epochs, loss, 'bo', label='Training loss')\n",
    "plt.plot(epochs, val_loss, 'b', label='Validation loss')\n",
    "\n",
    "plt.title('Training and validation loss')\n",
    "plt.xlabel('Epochs')\n",
    "plt.ylabel('Loss')\n",
    "plt.legend()\n",
    "\n",
    "plt.show()\n",
    "\n",
    "plt.clf()\n",
    "\n",
    "plt.plot(epochs, acc, 'bo', label='Training acc')\n",
    "plt.plot(epochs, val_acc, 'b', label='Validation acc')\n",
    "plt.title('Training and validation accuracy')\n",
    "plt.xlabel('Epochs')\n",
    "plt.ylabel('Accuracy')\n",
    "plt.legend()\n",
    "\n",
    "plt.show()"
   ]
  },
  {
   "cell_type": "markdown",
   "id": "d15956e2",
   "metadata": {},
   "source": [
    "# 7. 학습된 Embedding 레이어 분석"
   ]
  },
  {
   "cell_type": "code",
   "execution_count": 23,
   "id": "e2e825ec",
   "metadata": {},
   "outputs": [
    {
     "name": "stdout",
     "output_type": "stream",
     "text": [
      "(10000, 128)\n"
     ]
    }
   ],
   "source": [
    "embedding_lstm = LSTM.layers[0]\n",
    "lstm_weights = embedding_lstm.get_weights()[0]\n",
    "print(lstm_weights.shape)"
   ]
  },
  {
   "cell_type": "code",
   "execution_count": 24,
   "id": "504aafb5",
   "metadata": {
    "scrolled": false
   },
   "outputs": [
    {
     "name": "stdout",
     "output_type": "stream",
     "text": [
      "(10000, 128)\n"
     ]
    }
   ],
   "source": [
    "embedding_cnn = cnn.layers[0]\n",
    "cnn_weights = embedding_cnn.get_weights()[0]\n",
    "print(cnn_weights.shape)"
   ]
  },
  {
   "cell_type": "code",
   "execution_count": 25,
   "id": "9e41035c",
   "metadata": {},
   "outputs": [
    {
     "name": "stdout",
     "output_type": "stream",
     "text": [
      "(10000, 128)\n"
     ]
    }
   ],
   "source": [
    "embedding_GMP = GMP.layers[0]\n",
    "GMP_weights = embedding_GMP.get_weights()[0]\n",
    "print(GMP_weights.shape)"
   ]
  },
  {
   "cell_type": "code",
   "execution_count": 27,
   "id": "0c6db729",
   "metadata": {},
   "outputs": [],
   "source": [
    "lstm_word2vec_file_path = os.getenv('HOME')+'/aiffel/sentiment_classification/LSTMword2vec.txt'\n",
    "f = open(lstm_word2vec_file_path, 'w')\n",
    "f.write('{} {}\\n'.format(vocab_size-4, word_vector_dim))\n",
    "\n",
    "vectors = embedding_lstm.get_weights()[0]\n",
    "for i in range(4,vocab_size):\n",
    "    f.write('{} {}\\n'.format(index_to_word[i], ' '.join(map(str, list(vectors[i, :])))))\n",
    "f.close()"
   ]
  },
  {
   "cell_type": "code",
   "execution_count": 28,
   "id": "e4f1e3c9",
   "metadata": {},
   "outputs": [],
   "source": [
    "cnn_word2vec_file_path = os.getenv('HOME')+'/aiffel/sentiment_classification/cnnword2vec.txt'\n",
    "f = open(cnn_word2vec_file_path, 'w')\n",
    "f.write('{} {}\\n'.format(vocab_size-4, word_vector_dim))\n",
    "\n",
    "vectors = embedding_cnn.get_weights()[0]\n",
    "for i in range(4,vocab_size):\n",
    "    f.write('{} {}\\n'.format(index_to_word[i], ' '.join(map(str, list(vectors[i, :])))))\n",
    "f.close()"
   ]
  },
  {
   "cell_type": "code",
   "execution_count": 29,
   "id": "24b8eb26",
   "metadata": {},
   "outputs": [],
   "source": [
    "GMP_word2vec_file_path = os.getenv('HOME')+'/aiffel/sentiment_classification/GMPword2vec.txt'\n",
    "f = open(GMP_word2vec_file_path, 'w')\n",
    "f.write('{} {}\\n'.format(vocab_size-4, word_vector_dim))\n",
    "\n",
    "vectors = embedding_GMP.get_weights()[0]\n",
    "for i in range(4,vocab_size):\n",
    "    f.write('{} {}\\n'.format(index_to_word[i], ' '.join(map(str, list(vectors[i, :])))))\n",
    "f.close()"
   ]
  },
  {
   "cell_type": "code",
   "execution_count": 31,
   "id": "597c25cc",
   "metadata": {},
   "outputs": [
    {
     "data": {
      "text/plain": [
       "array([ 0.07467971,  0.05443269,  0.05479737,  0.10580174,  0.20510367,\n",
       "        0.07844499, -0.20592763,  0.05207902, -0.01522373,  0.13294859,\n",
       "        0.2877522 ,  0.24611762, -0.13879469,  0.07127807,  0.04499198,\n",
       "       -0.0997642 , -0.03299456, -0.07335308,  0.11866134, -0.04940414,\n",
       "       -0.27603722,  0.02533613,  0.16565278,  0.2165266 ,  0.14757222,\n",
       "       -0.16616407,  0.20478132,  0.01657029,  0.07710789, -0.03975914,\n",
       "        0.1362146 , -0.06534535,  0.04099166, -0.03270842, -0.02526894,\n",
       "        0.19407283,  0.14033604, -0.15394032, -0.14787567, -0.13734356,\n",
       "        0.2132823 ,  0.13862656, -0.26805368,  0.15932824, -0.00285255,\n",
       "       -0.13873613,  0.07724152,  0.15462498,  0.25600195,  0.18957137,\n",
       "       -0.16230816,  0.18554357, -0.05476798, -0.15774119,  0.20483138,\n",
       "        0.04301646,  0.00311638, -0.08133323,  0.06399409,  0.07733989,\n",
       "       -0.02754118,  0.00828974, -0.09348907,  0.02241368,  0.05055557,\n",
       "        0.20006402, -0.11030862,  0.14121589, -0.24854128,  0.01908924,\n",
       "       -0.28687814, -0.15249322, -0.1224555 ,  0.05139476, -0.31490755,\n",
       "       -0.07163442,  0.09954984, -0.04814833, -0.13059439,  0.11376062,\n",
       "       -0.07313991, -0.04365563,  0.1830859 ,  0.10872304,  0.11235485,\n",
       "       -0.20082092,  0.27852327, -0.26418424,  0.1897964 , -0.03756525,\n",
       "       -0.12273943, -0.16240725, -0.35884568, -0.27652806, -0.05321424,\n",
       "       -0.10497595,  0.22824554,  0.08919495,  0.13711753, -0.25608072,\n",
       "        0.15198408, -0.04852735, -0.20088138, -0.06766646,  0.12069967,\n",
       "       -0.15317495,  0.29257947,  0.03183682,  0.17885119, -0.17902854,\n",
       "        0.33923286, -0.16490078, -0.01303571, -0.123152  , -0.16249508,\n",
       "        0.22435173, -0.06517451,  0.29303718, -0.30567107, -0.22946113,\n",
       "        0.24749634, -0.07277109,  0.03140463,  0.0718297 ,  0.20988184,\n",
       "        0.07375465,  0.01883791, -0.01030875], dtype=float32)"
      ]
     },
     "execution_count": 31,
     "metadata": {},
     "output_type": "execute_result"
    }
   ],
   "source": [
    "word_vectors_lstm = Word2VecKeyedVectors.load_word2vec_format(lstm_word2vec_file_path, binary=False)\n",
    "vector = word_vectors_lstm['컴퓨터']\n",
    "vector"
   ]
  },
  {
   "cell_type": "code",
   "execution_count": 32,
   "id": "405872df",
   "metadata": {},
   "outputs": [
    {
     "data": {
      "text/plain": [
       "[('따뜻', 0.860535204410553),\n",
       " ('끌리', 0.8285865187644958),\n",
       " ('히틀러', 0.8278337121009827),\n",
       " ('돌아보', 0.8253747820854187),\n",
       " ('슬픔', 0.8251001238822937),\n",
       " ('통쾌', 0.8246668577194214),\n",
       " ('친근', 0.8217938542366028),\n",
       " ('거북이', 0.8214278817176819),\n",
       " ('리암니슨', 0.8207499384880066),\n",
       " ('탄탄', 0.8194423317909241)]"
      ]
     },
     "execution_count": 32,
     "metadata": {},
     "output_type": "execute_result"
    }
   ],
   "source": [
    "word_vectors_lstm.similar_by_word(\"감동\")"
   ]
  },
  {
   "cell_type": "markdown",
   "id": "6d34e8a1",
   "metadata": {},
   "source": [
    "# 8. 한국어 Word2Vec 임베딩 활용 -> 성능 개선"
   ]
  },
  {
   "cell_type": "code",
   "execution_count": 33,
   "id": "ae1a4c5f",
   "metadata": {},
   "outputs": [
    {
     "data": {
      "text/plain": [
       "array([ 1.038851  , -1.1634965 ,  2.2386286 ,  0.8971453 , -2.088168  ,\n",
       "       -4.1942534 , -0.02519768, -0.69813883, -0.2908033 , -1.4651134 ,\n",
       "       -2.6863668 ,  0.7999443 , -0.6957915 , -0.5018775 ,  3.5025773 ,\n",
       "        0.21326113, -0.6588098 , -1.1900496 ,  0.61399573,  2.1247969 ,\n",
       "        0.1549463 ,  3.0840218 ,  3.1680267 , -3.9143991 ,  3.6073153 ,\n",
       "        0.5315545 , -0.3511633 , -1.107248  ,  1.7767181 , -0.95981866,\n",
       "        2.6072454 , -0.00697957, -3.27628   ,  1.558644  ,  0.81922376,\n",
       "        1.9231955 ,  3.7026553 , -0.53824735, -0.4920138 ,  2.4657123 ,\n",
       "       -2.620749  , -0.08950733,  0.61453176,  1.8866426 ,  0.257866  ,\n",
       "       -2.7827141 ,  2.9129577 , -0.6313133 ,  2.0387425 , -4.222685  ,\n",
       "       -2.7560544 ,  1.7903243 , -1.3080189 , -2.5531402 , -0.43849912,\n",
       "       -3.1073573 , -0.29090825,  5.1817617 ,  1.9604833 , -5.1421604 ,\n",
       "       -0.71431434,  4.5624633 , -0.55525815, -3.3019137 ,  1.6761336 ,\n",
       "       -1.9606539 , -0.2726863 ,  0.2465995 ,  1.2685091 ,  1.6055685 ,\n",
       "        1.8344896 ,  1.2752469 ,  0.99503314, -2.3348706 , -0.9290329 ,\n",
       "       -1.5920266 ,  5.693834  ,  1.1132814 , -0.9603875 , -1.970055  ,\n",
       "       -1.0120267 , -2.7289615 , -2.7759619 ,  3.214084  ,  1.8573734 ,\n",
       "       -1.3495721 , -0.10321241,  3.434593  , -2.8573685 , -1.9004927 ,\n",
       "       -1.6801298 , -2.805677  ,  1.7723105 , -0.41865307, -2.310913  ,\n",
       "       -6.2761464 , -0.8376036 ,  2.4590037 ,  2.1697695 , -4.440443  ],\n",
       "      dtype=float32)"
      ]
     },
     "execution_count": 33,
     "metadata": {},
     "output_type": "execute_result"
    }
   ],
   "source": [
    "word2vec_file_path2 = os.getenv('HOME')+'/data/word2vec_ko.model'\n",
    "word_vectors = Word2VecKeyedVectors.load(word2vec_file_path2)\n",
    "pre_word2vec = gensim.models.Word2Vec.load(word2vec_file_path2)\n",
    "\n",
    "\n",
    "vector = word_vectors.wv['끝']\n",
    "vector"
   ]
  },
  {
   "cell_type": "code",
   "execution_count": 34,
   "id": "11c047ed",
   "metadata": {},
   "outputs": [],
   "source": [
    "vocab_size = 10000 \n",
    "word_vector_dim = 100  \n",
    "embedding_matrix = np.random.rand(vocab_size, word_vector_dim)\n",
    "\n",
    "for i in range(4,vocab_size):\n",
    "    if index_to_word[i] in pre_word2vec.wv.key_to_index:\n",
    "        embedding_matrix[i] = pre_word2vec.wv.vectors[pre_word2vec.wv.key_to_index[index_to_word[i]]]"
   ]
  },
  {
   "cell_type": "code",
   "execution_count": 35,
   "id": "ee7f0c7a",
   "metadata": {},
   "outputs": [],
   "source": [
    "#lstm\n",
    "vocab_size = 10000\n",
    "word_vector_dim = 100\n",
    "\n",
    "LSTM = keras.Sequential()\n",
    "LSTM.add(keras.layers.Embedding(vocab_size, \n",
    "                                 word_vector_dim, \n",
    "                                 embeddings_initializer=Constant(embedding_matrix),\n",
    "                                 input_length=maxlen, \n",
    "                                 trainable=True))\n",
    "LSTM.add(keras.layers.LSTM(64))\n",
    "LSTM.add(keras.layers.Dense(256, activation='relu'))\n",
    "LSTM.add(keras.layers.Dense(1, activation='sigmoid'))\n",
    "\n",
    "\n",
    "# CNN\n",
    "cnn = keras.Sequential()\n",
    "cnn.add(keras.layers.Embedding(vocab_size, word_vector_dim, input_shape=(None,))) \n",
    "cnn.add(keras.layers.Conv1D(16, 7, activation='relu'))\n",
    "cnn.add(keras.layers.MaxPooling1D(5))\n",
    "cnn.add(keras.layers.Conv1D(16, 7, activation='relu'))\n",
    "cnn.add(keras.layers.GlobalMaxPooling1D())\n",
    "cnn.add(keras.layers.Dense(16, activation='relu'))\n",
    "cnn.add(keras.layers.Dense(1, activation='sigmoid'))\n",
    "\n",
    "\n",
    "# GMP\n",
    "GMP = keras.Sequential()\n",
    "GMP.add(keras.layers.Embedding(vocab_size, \n",
    "                                 word_vector_dim, \n",
    "                                 embeddings_initializer=Constant(embedding_matrix),\n",
    "                                 input_length=maxlen, \n",
    "                                 trainable=True))\n",
    "GMP.add(keras.layers.GlobalMaxPooling1D())\n",
    "GMP.add(keras.layers.Dense(8, activation='relu'))\n",
    "GMP.add(keras.layers.Dense(1, activation='sigmoid'))"
   ]
  },
  {
   "cell_type": "code",
   "execution_count": 40,
   "id": "cb1670b6",
   "metadata": {
    "scrolled": true
   },
   "outputs": [
    {
     "name": "stdout",
     "output_type": "stream",
     "text": [
      "Model: \"sequential_3\"\n",
      "_________________________________________________________________\n",
      "Layer (type)                 Output Shape              Param #   \n",
      "=================================================================\n",
      "embedding_3 (Embedding)      (None, 48, 100)           1000000   \n",
      "_________________________________________________________________\n",
      "lstm_1 (LSTM)                (None, 64)                42240     \n",
      "_________________________________________________________________\n",
      "dense_5 (Dense)              (None, 256)               16640     \n",
      "_________________________________________________________________\n",
      "dense_6 (Dense)              (None, 1)                 257       \n",
      "=================================================================\n",
      "Total params: 1,059,137\n",
      "Trainable params: 1,059,137\n",
      "Non-trainable params: 0\n",
      "_________________________________________________________________\n"
     ]
    }
   ],
   "source": [
    "LSTM.summary()"
   ]
  },
  {
   "cell_type": "code",
   "execution_count": 41,
   "id": "10371a6d",
   "metadata": {},
   "outputs": [],
   "source": [
    "LSTM.compile(optimizer='adam',\n",
    "              loss='binary_crossentropy',\n",
    "              metrics=['accuracy'])\n",
    "\n"
   ]
  },
  {
   "cell_type": "code",
   "execution_count": 42,
   "id": "ced9c0cd",
   "metadata": {},
   "outputs": [],
   "source": [
    "ealry_ko = EarlyStopping(monitor='val_loss', mode='min', verbose=1, patience=5)\n",
    "check_ko = ModelCheckpoint('best_model_ko.h5', monitor='val_acc', mode='max', verbose=1, save_bast_only=True)"
   ]
  },
  {
   "cell_type": "code",
   "execution_count": 44,
   "id": "d794928d",
   "metadata": {},
   "outputs": [
    {
     "name": "stdout",
     "output_type": "stream",
     "text": [
      "Epoch 1/10\n",
      "4256/4256 [==============================] - 23s 5ms/step - loss: 0.4711 - accuracy: 0.7506 - val_loss: 0.3506 - val_accuracy: 0.8451\n",
      "\n",
      "Epoch 00001: saving model to best_model_ko.h5\n",
      "Epoch 2/10\n",
      "4256/4256 [==============================] - 21s 5ms/step - loss: 0.3236 - accuracy: 0.8610 - val_loss: 0.3340 - val_accuracy: 0.8502\n",
      "\n",
      "Epoch 00002: saving model to best_model_ko.h5\n",
      "Epoch 3/10\n",
      "4256/4256 [==============================] - 21s 5ms/step - loss: 0.2855 - accuracy: 0.8799 - val_loss: 0.3229 - val_accuracy: 0.8604\n",
      "\n",
      "Epoch 00003: saving model to best_model_ko.h5\n",
      "Epoch 4/10\n",
      "4256/4256 [==============================] - 21s 5ms/step - loss: 0.2590 - accuracy: 0.8923 - val_loss: 0.3185 - val_accuracy: 0.8627\n",
      "\n",
      "Epoch 00004: saving model to best_model_ko.h5\n",
      "Epoch 5/10\n",
      "4256/4256 [==============================] - 21s 5ms/step - loss: 0.2341 - accuracy: 0.9042 - val_loss: 0.3248 - val_accuracy: 0.8621\n",
      "\n",
      "Epoch 00005: saving model to best_model_ko.h5\n",
      "Epoch 6/10\n",
      "4256/4256 [==============================] - 21s 5ms/step - loss: 0.2122 - accuracy: 0.9144 - val_loss: 0.3442 - val_accuracy: 0.8600\n",
      "\n",
      "Epoch 00006: saving model to best_model_ko.h5\n",
      "Epoch 7/10\n",
      "4256/4256 [==============================] - 21s 5ms/step - loss: 0.1921 - accuracy: 0.9234 - val_loss: 0.3647 - val_accuracy: 0.8614\n",
      "\n",
      "Epoch 00007: saving model to best_model_ko.h5\n",
      "Epoch 8/10\n",
      "4256/4256 [==============================] - 21s 5ms/step - loss: 0.1736 - accuracy: 0.9323 - val_loss: 0.4040 - val_accuracy: 0.8573\n",
      "\n",
      "Epoch 00008: saving model to best_model_ko.h5\n",
      "Epoch 9/10\n",
      "4256/4256 [==============================] - 21s 5ms/step - loss: 0.1570 - accuracy: 0.9394 - val_loss: 0.3976 - val_accuracy: 0.8566\n",
      "\n",
      "Epoch 00009: saving model to best_model_ko.h5\n",
      "Epoch 00009: early stopping\n"
     ]
    }
   ],
   "source": [
    "history_LSTM2 = LSTM.fit(partial_x_train,\n",
    "                    partial_y_train,\n",
    "                    epochs=10,\n",
    "                    callbacks=[ealry_ko, check_ko],\n",
    "                    batch_size=32,\n",
    "                    validation_data=(x_val, y_val),\n",
    "                    verbose=1)"
   ]
  },
  {
   "cell_type": "code",
   "execution_count": 45,
   "id": "ff28a7c6",
   "metadata": {},
   "outputs": [
    {
     "name": "stdout",
     "output_type": "stream",
     "text": [
      "1537/1537 - 3s - loss: 0.4091 - accuracy: 0.8533\n",
      "[0.4090568423271179, 0.8532660603523254]\n"
     ]
    }
   ],
   "source": [
    "result_lstm2 = LSTM.evaluate(X_test,  y_test, verbose=2)\n",
    "\n",
    "print(result_lstm2)"
   ]
  },
  {
   "cell_type": "code",
   "execution_count": 46,
   "id": "efd93673",
   "metadata": {},
   "outputs": [],
   "source": [
    "# cnn "
   ]
  },
  {
   "cell_type": "code",
   "execution_count": 47,
   "id": "a00c6d35",
   "metadata": {},
   "outputs": [],
   "source": [
    "cnn.compile(optimizer='adam',\n",
    "              loss='binary_crossentropy',\n",
    "              metrics=['accuracy'])\n"
   ]
  },
  {
   "cell_type": "code",
   "execution_count": 48,
   "id": "4c4c6594",
   "metadata": {},
   "outputs": [
    {
     "name": "stdout",
     "output_type": "stream",
     "text": [
      "Epoch 1/10\n",
      "4256/4256 [==============================] - 18s 4ms/step - loss: 0.3694 - accuracy: 0.8332 - val_loss: 0.3239 - val_accuracy: 0.8574\n",
      "\n",
      "Epoch 00001: saving model to best_model_ko.h5\n",
      "Epoch 2/10\n",
      "4256/4256 [==============================] - 18s 4ms/step - loss: 0.2721 - accuracy: 0.8873 - val_loss: 0.3249 - val_accuracy: 0.8596\n",
      "\n",
      "Epoch 00002: saving model to best_model_ko.h5\n",
      "Epoch 3/10\n",
      "4256/4256 [==============================] - 18s 4ms/step - loss: 0.1993 - accuracy: 0.9209 - val_loss: 0.3506 - val_accuracy: 0.8547\n",
      "\n",
      "Epoch 00003: saving model to best_model_ko.h5\n",
      "Epoch 4/10\n",
      "4256/4256 [==============================] - 18s 4ms/step - loss: 0.1376 - accuracy: 0.9474 - val_loss: 0.4428 - val_accuracy: 0.8464\n",
      "\n",
      "Epoch 00004: saving model to best_model_ko.h5\n",
      "Epoch 5/10\n",
      "4256/4256 [==============================] - 18s 4ms/step - loss: 0.0991 - accuracy: 0.9630 - val_loss: 0.5078 - val_accuracy: 0.8443\n",
      "\n",
      "Epoch 00005: saving model to best_model_ko.h5\n",
      "Epoch 6/10\n",
      "4256/4256 [==============================] - 18s 4ms/step - loss: 0.0767 - accuracy: 0.9710 - val_loss: 0.5996 - val_accuracy: 0.8437\n",
      "\n",
      "Epoch 00006: saving model to best_model_ko.h5\n",
      "Epoch 00006: early stopping\n"
     ]
    }
   ],
   "source": [
    "\n",
    "history_cnn = cnn.fit(partial_x_train,\n",
    "                    partial_y_train,\n",
    "                    epochs=10,\n",
    "                    callbacks=[ealry_ko, check_ko],\n",
    "                    batch_size=32,\n",
    "                    validation_data=(x_val, y_val),\n",
    "                    verbose=1)"
   ]
  },
  {
   "cell_type": "code",
   "execution_count": 49,
   "id": "95254951",
   "metadata": {},
   "outputs": [
    {
     "name": "stdout",
     "output_type": "stream",
     "text": [
      "1537/1537 - 2s - loss: 0.6190 - accuracy: 0.8413\n",
      "[0.6189604997634888, 0.8413247466087341]\n"
     ]
    }
   ],
   "source": [
    "results_cnn = cnn.evaluate(X_test, y_test, verbose=2)\n",
    "\n",
    "print(results_cnn)"
   ]
  },
  {
   "cell_type": "code",
   "execution_count": null,
   "id": "6c7c2577",
   "metadata": {},
   "outputs": [],
   "source": []
  },
  {
   "cell_type": "code",
   "execution_count": 50,
   "id": "45f57734",
   "metadata": {},
   "outputs": [],
   "source": [
    "# GMP"
   ]
  },
  {
   "cell_type": "code",
   "execution_count": 52,
   "id": "db4b3c62",
   "metadata": {},
   "outputs": [],
   "source": [
    "GMP.compile(optimizer='adam',\n",
    "              loss='binary_crossentropy',\n",
    "              metrics=['accuracy'])"
   ]
  },
  {
   "cell_type": "code",
   "execution_count": 53,
   "id": "64d33c24",
   "metadata": {},
   "outputs": [
    {
     "name": "stdout",
     "output_type": "stream",
     "text": [
      "Epoch 1/10\n",
      "4256/4256 [==============================] - 14s 3ms/step - loss: 0.6190 - accuracy: 0.6557 - val_loss: 0.5418 - val_accuracy: 0.7263\n",
      "Epoch 2/10\n",
      "4256/4256 [==============================] - 13s 3ms/step - loss: 0.5014 - accuracy: 0.7533 - val_loss: 0.4784 - val_accuracy: 0.7702\n",
      "Epoch 3/10\n",
      "4256/4256 [==============================] - 13s 3ms/step - loss: 0.4513 - accuracy: 0.7873 - val_loss: 0.4486 - val_accuracy: 0.7917\n",
      "Epoch 4/10\n",
      "4256/4256 [==============================] - 13s 3ms/step - loss: 0.4209 - accuracy: 0.8065 - val_loss: 0.4312 - val_accuracy: 0.7990\n",
      "Epoch 5/10\n",
      "4256/4256 [==============================] - 13s 3ms/step - loss: 0.3972 - accuracy: 0.8204 - val_loss: 0.4420 - val_accuracy: 0.7979\n",
      "Epoch 6/10\n",
      "4256/4256 [==============================] - 13s 3ms/step - loss: 0.3792 - accuracy: 0.8310 - val_loss: 0.4089 - val_accuracy: 0.8154\n",
      "Epoch 7/10\n",
      "4256/4256 [==============================] - 13s 3ms/step - loss: 0.3638 - accuracy: 0.8401 - val_loss: 0.4025 - val_accuracy: 0.8173\n",
      "Epoch 8/10\n",
      "4256/4256 [==============================] - 13s 3ms/step - loss: 0.3501 - accuracy: 0.8476 - val_loss: 0.3976 - val_accuracy: 0.8195\n",
      "Epoch 9/10\n",
      "4256/4256 [==============================] - 13s 3ms/step - loss: 0.3384 - accuracy: 0.8540 - val_loss: 0.3996 - val_accuracy: 0.8176\n",
      "Epoch 10/10\n",
      "4256/4256 [==============================] - 13s 3ms/step - loss: 0.3270 - accuracy: 0.8608 - val_loss: 0.3925 - val_accuracy: 0.8230\n"
     ]
    }
   ],
   "source": [
    "GMP_history = GMP.fit(partial_x_train,\n",
    "                    partial_y_train,\n",
    "                    epochs=10,\n",
    "                    batch_size=32,\n",
    "                    validation_data=(x_val, y_val),\n",
    "                    verbose=1)"
   ]
  },
  {
   "cell_type": "code",
   "execution_count": 54,
   "id": "683bcccb",
   "metadata": {},
   "outputs": [
    {
     "name": "stdout",
     "output_type": "stream",
     "text": [
      "1537/1537 - 2s - loss: 0.3999 - accuracy: 0.8220\n",
      "[0.39989766478538513, 0.8219988942146301]\n"
     ]
    }
   ],
   "source": [
    "results = GMP.evaluate(X_test,  y_test, verbose=2)\n",
    "\n",
    "print(results)"
   ]
  },
  {
   "cell_type": "code",
   "execution_count": null,
   "id": "00fb5e4a",
   "metadata": {},
   "outputs": [],
   "source": []
  },
  {
   "cell_type": "code",
   "execution_count": null,
   "id": "95c70eff",
   "metadata": {},
   "outputs": [],
   "source": []
  },
  {
   "cell_type": "code",
   "execution_count": null,
   "id": "77556ff3",
   "metadata": {},
   "outputs": [],
   "source": []
  },
  {
   "cell_type": "code",
   "execution_count": null,
   "id": "59adfd13",
   "metadata": {},
   "outputs": [],
   "source": []
  }
 ],
 "metadata": {
  "kernelspec": {
   "display_name": "Python 3 (ipykernel)",
   "language": "python",
   "name": "python3"
  },
  "language_info": {
   "codemirror_mode": {
    "name": "ipython",
    "version": 3
   },
   "file_extension": ".py",
   "mimetype": "text/x-python",
   "name": "python",
   "nbconvert_exporter": "python",
   "pygments_lexer": "ipython3",
   "version": "3.9.7"
  }
 },
 "nbformat": 4,
 "nbformat_minor": 5
}
